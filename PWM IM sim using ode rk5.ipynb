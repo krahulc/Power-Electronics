{
 "cells": [
  {
   "cell_type": "code",
   "execution_count": 29,
   "metadata": {
    "collapsed": true
   },
   "outputs": [],
   "source": [
    "import numpy as np\n",
    "from scipy import linalg\n",
    "import matplotlib.pyplot as plt\n",
    "import math\n",
    "import seaborn as sns\n",
    "from scipy import integrate\n",
    "from scipy.integrate import ode\n",
    "from scipy.integrate import quad\n",
    "from scipy.integrate import trapz\n",
    "%matplotlib inline"
   ]
  },
  {
   "cell_type": "code",
   "execution_count": 32,
   "metadata": {
    "collapsed": true
   },
   "outputs": [],
   "source": [
    "Vm = 105*1.414   #Phase peak voltage                 \n",
    "freq = 400\n",
    "w=2*np.pi *freq    \n",
    "J = 0.0001675       #moment of inertia\n",
    "T_l = 1          #load torque\n",
    "B=0 #0.006      #coefficient of friction \n",
    "P=4          #no of poles\n",
    "Rs=.047    #stator resistance\n",
    "Rr=.05     #rotor resistance\n",
    "Lm=8.71/w  #mutual inductance\n",
    "Lls=.433/w #stator leakage inductance\n",
    "Llr=.623/w\n",
    "Ls=Lm + Lls   #stator inductance\n",
    "Lr=Lm + Llr   # rotor inductance\n",
    "tr=Lr/Rr #rotor time constant\n",
    "wrref=100\n",
    "kp=.005\n",
    "ki=.01\n",
    "kpi=.1\n",
    "kii=1\n",
    "Ts=.0000625\n",
    "iqref=iqref1=ewr=ewr1=eid=eiq=eid1=eiq1=ids=iqs=vdref=vqref=vdref1=vqref1=we=wsl=we1=theta=theta1=vas=vbs=vcs=0\n",
    "\n",
    "R=([Rs,0,0,0],[0,Rs,0,0],[0,0,Rr,0],[0,0,0,Rr])      \n",
    "L=([Ls,0,Lm,0],[0,Ls,0,Lm],[Lm,0,Lr,0],[0,Lm,0,Lr])\n",
    "G=([0,0,0,0],[0,0,0,0],[0,Lm,0,Lr],[-Lm,0,-Lr,0])\n",
    "invL=np.linalg.inv(L)\n",
    "\n",
    "vdq=np.zeros((2,1))\n",
    "v=np.zeros((4,1))\n",
    "i=np.zeros((4,1))\n",
    "di_dt=np.zeros((4,1))\n",
    "\n",
    "torque, i_as, i_bs, i_cs ,speed,t = ([] for i in range(6))\n",
    "\n",
    "s0 = [0, 0, 0, 0, 0]\n",
    "t0 = 0\n",
    "t_end = 2\n",
    "dt = 0.0001"
   ]
  },
  {
   "cell_type": "code",
   "execution_count": 33,
   "metadata": {
    "collapsed": true
   },
   "outputs": [],
   "source": [
    "def dxdt(t, x,v_as,v_bs,v_cs):\n",
    "    \n",
    "    i_ds, i_qs, i_dr, i_qr, w_r = x[0], x[1], x[2], x[3], x[4]\n",
    "    \n",
    "    c = ([1,-.5,-.5],[0,.866,-.866])\n",
    "    vdq = ((2./3)*Vm)*np.dot(c ,([v_as],\n",
    "                                 [v_bs],\n",
    "                                 [v_cs]))\n",
    "#      vdq = ((2./3)*Vm)*np.dot(c ,([np.sin(w*t)],\n",
    "#                                  [np.sin(w*t -(2./3)*np.pi)],\n",
    "#                                  [np.sin(w*t + (2./3)*np.pi)]))\n",
    "\n",
    "    \n",
    "    v[0], v[1] = vdq[0], vdq[1]\n",
    "    i[0], i[1], i[2], i[3] = i_ds, i_qs, i_dr, i_qr\n",
    "   \n",
    "    di_dt = np.dot(invL ,(v-(np.dot(R,i) + w_r*np.dot(G,i))))\n",
    "    dids_dt, diqs_dt, didr_dt, diqr_dt = di_dt[0], di_dt[1], di_dt[2], di_dt[3]\n",
    "\n",
    "    Te = (3*Lm*((i[2] * i[1]) -(i[3] *i[0])))\n",
    "\n",
    "    dwr_dt = (Te - T_l )*P/(2*J) + (-(B/J))*w_r \n",
    "    return [dids_dt, diqs_dt, didr_dt, diqr_dt, dwr_dt]"
   ]
  },
  {
   "cell_type": "code",
   "execution_count": 34,
   "metadata": {},
   "outputs": [],
   "source": [
    "solver = integrate.ode(dxdt)\n",
    "solver.set_integrator('dopri5')\n",
    "solver.set_initial_value(s0, t0)\n",
    "solver.set_f_params(vas,vbs,vcs)\n",
    "\n",
    "while solver.successful() and solver.t < t_end:\n",
    "    i_ds, i_qs ,i_dr, i_qr, w_r = solver.integrate(solver.t+dt)\n",
    "    ias = i_ds\n",
    "    ibs = (-.5)*i_ds+(.866)*i_qs\n",
    "    ics = (-.5)*i_ds-(.866)*i_qs\n",
    "    Te1 = (3*Lm*((i_dr * i_qs) -(i_qr *i_ds)))\n",
    "    \n",
    "    torque.append(Te1)\n",
    "    i_as.append(ias)\n",
    "    i_bs.append(ibs)\n",
    "    i_cs.append(ics)\n",
    "    t.append(solver.t)\n",
    "    speed.append(w_r)\n",
    "    \n",
    "    ids=(2./3)*(ias *np.cos(theta) +ibs* np.cos(theta - 2 *np.pi/3) +ics*cos(theta + 2*np.pi/3))\n",
    "    iqs=(-2./3)*(ias *np.sin(theta) +ibs* np.sin(theta - 2 *np.pi/3) +ics*sin(theta + 2*np.pi/3))\n",
    "    \n",
    "    ewr=wrref-w_r\n",
    "    iqref=iqref1+kp*(ewr-ewr1)+.05*Ts*ki*(ewr+ewr1)\n",
    "    ewr1=ewr\n",
    "    iqref1=iqref\n",
    "    \n",
    "    idref=1 /Lm\n",
    "    eid=idref- ids\n",
    "    vdref=vdref1+kp*(eid-eid1)+.05*Ts*ki*(eid+eid1)\n",
    "    eid1=eid\n",
    "    vdref1=vdref\n",
    "    \n",
    "    eiq=iqref-iqs\n",
    "    vqref=vqref1+kp*(eiq-eiq1)+.05*Ts*ki*(eiq+eiq1)\n",
    "    eiq1=eiq\n",
    "    vqref1=vqref\n",
    "    \n",
    "    wsl=(1/tr)*(iqref/idref)\n",
    "    we=wsl+w_r\n",
    "    theta=theta1+.05*Ts*(we+we1)\n",
    "    we1=we\n",
    "    \n",
    "    vas=vdref * np.cos(theta) - vqref * np.sin(theta)\n",
    "    vbs=vdref * np.cos(theta - 2. *np.pi /3) - vqref * np.sin(theta - 2. *np.pi /3)\n",
    "    vcs=vdref * np.cos(theta + 2. *np.pi /3) - vqref * np.sin(theta + 2. *np.pi /3)"
   ]
  },
  {
   "cell_type": "code",
   "execution_count": 35,
   "metadata": {},
   "outputs": [
    {
     "data": {
      "image/png": "[encoded data removed]",
      "text/plain": [
       "<matplotlib.figure.Figure at 0x112734c18>"
      ]
     },
     "metadata": {},
     "output_type": "display_data"
    },
    {
     "data": {
      "image/png": "[encoded data removed]",
      "text/plain": [
       "<matplotlib.figure.Figure at 0x11259ed68>"
      ]
     },
     "metadata": {},
     "output_type": "display_data"
    },
    {
     "data": {
      "text/plain": [
       "[1.6, 1.65, 30, -30]"
      ]
     },
     "execution_count": 35,
     "metadata": {},
     "output_type": "execute_result"
    },
    {
     "data": {
      "image/png": "[encoded data removed]",
      "text/plain": [
       "<matplotlib.figure.Figure at 0x1128bc438>"
      ]
     },
     "metadata": {},
     "output_type": "display_data"
    }
   ],
   "source": [
    "speed= np.dot(60/(4*np.pi) ,speed)\n",
    "plt.plot(t,speed)\n",
    "plt.show()\n",
    "plt.plot(t,torque)\n",
    "plt.show()\n",
    "\n",
    "plt.plot(t,i_as)\n",
    "plt.plot(t,i_bs)\n",
    "plt.plot(t,i_cs)\n",
    "plt.axis([1.6,1.65,30,-30])"
   ]
  },
  {
   "cell_type": "code",
   "execution_count": null,
   "metadata": {
    "collapsed": true
   },
   "outputs": [],
   "source": []
  }
 ],
 "metadata": {
  "kernelspec": {
   "display_name": "Python 3",
   "language": "python",
   "name": "python3"
  },
  "language_info": {
   "codemirror_mode": {
    "name": "ipython",
    "version": 3
   },
   "file_extension": ".py",
   "mimetype": "text/x-python",
   "name": "python",
   "nbconvert_exporter": "python",
   "pygments_lexer": "ipython3",
   "version": "3.6.1"
  }
 },
 "nbformat": 4,
 "nbformat_minor": 2
}
