{
 "cells": [
  {
   "cell_type": "code",
   "execution_count": 5,
   "metadata": {
    "collapsed": true
   },
   "outputs": [],
   "source": [
    "from __future__ import division\n",
    "import numpy as np\n",
    "from scipy.integrate import ode\n",
    "import math\n",
    "import matplotlib.pyplot as plt\n",
    "%matplotlib inline\n",
    "from scipy import linalg"
   ]
  },
  {
   "cell_type": "code",
   "execution_count": 6,
   "metadata": {
    "collapsed": true
   },
   "outputs": [],
   "source": [
    "Vm=220*1.414/1.732\n",
    "w=2*np.pi*50\n",
    "J=.089\n",
    "p=4\n",
    "Lm=.0832\n",
    "r=np.array([[.435 ,0, 0, 0],[0, .435, 0, 0],[0, 0, .816, 0],[0, 0, 0, .816]])\n",
    "L=(1/(100*np.pi))*np.array([[.754+26.13 ,0, 26.13 ,0],[0 ,.754+26.13 ,0 ,26.13],[26.13 ,0, .754+26.13 ,0],[0 ,26.13, 0 ,.754+26.13]])\n",
    "G=(1/(100*np.pi))*np.array([[0, 0 ,0 ,0],[0 ,0, 0 ,0],[0, 26.13 ,0 ,.754+26.13],[-26.13, 0 ,-.754-26.13 ,0]])\n",
    "invL=linalg.inv(L)\n",
    "w_r=0"
   ]
  },
  {
   "cell_type": "code",
   "execution_count": 7,
   "metadata": {},
   "outputs": [
    {
     "ename": "TypeError",
     "evalue": "set_initial_value() takes from 2 to 3 positional arguments but 4 were given",
     "output_type": "error",
     "traceback": [
      "\u001b[0;31m---------------------------------------------------------------------------\u001b[0m",
      "\u001b[0;31mTypeError\u001b[0m                                 Traceback (most recent call last)",
      "\u001b[0;32m<ipython-input-7-8288c60a0fe4>\u001b[0m in \u001b[0;36m<module>\u001b[0;34m()\u001b[0m\n\u001b[1;32m     13\u001b[0m \u001b[0;34m\u001b[0m\u001b[0m\n\u001b[1;32m     14\u001b[0m \u001b[0midiq\u001b[0m \u001b[0;34m=\u001b[0m \u001b[0mode\u001b[0m\u001b[0;34m(\u001b[0m\u001b[0mpi\u001b[0m\u001b[0;34m)\u001b[0m\u001b[0;34m\u001b[0m\u001b[0m\n\u001b[0;32m---> 15\u001b[0;31m \u001b[0midiq\u001b[0m\u001b[0;34m.\u001b[0m\u001b[0mset_initial_value\u001b[0m\u001b[0;34m(\u001b[0m\u001b[0;34m[\u001b[0m\u001b[0;36m0\u001b[0m\u001b[0;34m,\u001b[0m \u001b[0;36m0\u001b[0m\u001b[0;34m,\u001b[0m \u001b[0;36m0\u001b[0m\u001b[0;34m,\u001b[0m \u001b[0;36m0\u001b[0m\u001b[0;34m,\u001b[0m \u001b[0;36m0\u001b[0m\u001b[0;34m]\u001b[0m\u001b[0;34m,\u001b[0m\u001b[0;34m[\u001b[0m\u001b[0;36m0\u001b[0m\u001b[0;34m,\u001b[0m\u001b[0;36m0\u001b[0m\u001b[0;34m,\u001b[0m\u001b[0;36m0\u001b[0m\u001b[0;34m,\u001b[0m\u001b[0;36m0\u001b[0m\u001b[0;34m]\u001b[0m\u001b[0;34m,\u001b[0m \u001b[0;36m0\u001b[0m\u001b[0;34m)\u001b[0m\u001b[0;34m\u001b[0m\u001b[0m\n\u001b[0m\u001b[1;32m     16\u001b[0m \u001b[0midiq\u001b[0m\u001b[0;34m.\u001b[0m\u001b[0mset_f_params\u001b[0m\u001b[0;34m(\u001b[0m\u001b[0mv1\u001b[0m\u001b[0;34m)\u001b[0m\u001b[0;34m\u001b[0m\u001b[0m\n\u001b[1;32m     17\u001b[0m \u001b[0midiq\u001b[0m\u001b[0;34m.\u001b[0m\u001b[0mset_integrator\u001b[0m\u001b[0;34m(\u001b[0m\u001b[0;34m\"dopri5\"\u001b[0m\u001b[0;34m)\u001b[0m\u001b[0;34m\u001b[0m\u001b[0m\n",
      "\u001b[0;31mTypeError\u001b[0m: set_initial_value() takes from 2 to 3 positional arguments but 4 were given"
     ]
    }
   ],
   "source": [
    "def pi(t, x, v1, *arg1):\n",
    "    i = x[0]\n",
    "    w_r = x[1]\n",
    "    #for s in range(len(vd)):\n",
    "    \n",
    "    i_dot = (v1-(np.dot(r,i)+w_r*np.dot(G, i)))\n",
    "    \n",
    "    Te = 3*Lm*i[2]*i[1] - 3*Lm*i[3]*i[0]\n",
    "\n",
    "    w_r_dot = Te*2/J\n",
    "    \n",
    "    return [i_dot[0], i_dot[1], i_dot[2], i_dot[3], w_r_dot]\n",
    "\n",
    "idiq = ode(pi)\n",
    "idiq.set_initial_value([0, 0, 0, 0, 0],[0,0,0,0], 0)\n",
    "idiq.set_f_params(v1)\n",
    "idiq.set_integrator(\"dopri5\")"
   ]
  },
  {
   "cell_type": "code",
   "execution_count": null,
   "metadata": {
    "collapsed": true
   },
   "outputs": [],
   "source": []
  }
 ],
 "metadata": {
  "kernelspec": {
   "display_name": "Python 2",
   "language": "python",
   "name": "python2"
  },
  "language_info": {
   "codemirror_mode": {
    "name": "ipython",
    "version": 3
   },
   "file_extension": ".py",
   "mimetype": "text/x-python",
   "name": "python",
   "nbconvert_exporter": "python",
   "pygments_lexer": "ipython3",
   "version": "3.6.1"
  }
 },
 "nbformat": 4,
 "nbformat_minor": 2
}
