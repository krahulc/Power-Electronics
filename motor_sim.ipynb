{
 "cells": [
  {
   "cell_type": "code",
   "execution_count": 331,
   "metadata": {
    "collapsed": true
   },
   "outputs": [],
   "source": [
    "import math\n",
    "import numpy as np\n",
    "import scipy.integrate as integrate\n",
    "import matplotlib.pyplot as plt\n",
    "%matplotlib inline"
   ]
  },
  {
   "cell_type": "code",
   "execution_count": 332,
   "metadata": {
    "collapsed": true
   },
   "outputs": [],
   "source": [
    "L_ls = 0.433/(2 * math.pi * 400)\n",
    "L_lr = 0.623/(2 * math.pi * 400)\n",
    "L_m = 8.71/(2 * math.pi * 400)\n",
    "R_s = 0.047\n",
    "R_r=.05\n",
    "R_c = 10\n",
    "J = 0.000675\n",
    "T_L = 1\n",
    "P = 4"
   ]
  },
  {
   "cell_type": "code",
   "execution_count": 333,
   "metadata": {
    "collapsed": true
   },
   "outputs": [],
   "source": [
    "def dxdt(t, x, v, omega_s):\n",
    "    i_s ,i_r, i_m ,omega_r = x[0], x[1], x[2], x[3]\n",
    "   \n",
    "    V=v* math.sin (omega_s * t)\n",
    "    s = (omega_s - omega_r) / omega_s\n",
    "\n",
    "    E_1 = R_c * (i_s - i_m - i_r)\n",
    "\n",
    "    dis_dt = (1 / L_ls ) * (V - R_s * i_s - E_1)\n",
    "    dir_dt = (1 / L_lr ) * (E_1 - (R_r / s) * i_r)\n",
    "    dim_dt = (1 / L_m ) * E_1\n",
    "    \n",
    "    dwr_dt = ((P / 2) / J) * (3 * (P / 2)  * ((i_r * i_r * R_r) / (s * omega_s)) - T_L)\n",
    "  \n",
    "    return [dis_dt, dir_dt, dim_dt, dwr_dt]"
   ]
  },
  {
   "cell_type": "code",
   "execution_count": 334,
   "metadata": {},
   "outputs": [],
   "source": [
    "s0 = [0.0, 0.0, 0.0, 0.0]\n",
    "t0 = 0\n",
    "\n",
    "solver = integrate.ode(dxdt)\n",
    "solver.set_integrator('dopri5')\n",
    "solver.set_initial_value(s0, t0)\n",
    "solver.set_f_params(105*1.414 , 2 * math.pi * 400)\n",
    "\n",
    "t_end = 2.5\n",
    "dt = 0.00001\n",
    "\n",
    "omega = []\n",
    "power = []\n",
    "t = []\n",
    "\n",
    "while solver.successful() and solver.t < t_end:\n",
    "    i_s, i_r, i_m, w_r = solver.integrate(solver.t+dt)\n",
    "    w_s = 2 * math.pi * 400 \n",
    "    s = (w_s - w_r) / w_s\n",
    "    powe = (3 * i_r * i_r * R_r * (1 - s)) / s\n",
    "    t.append(solver.t)\n",
    "    power.append(powe)\n",
    "    omega.append(w_r)\n"
   ]
  },
  {
   "cell_type": "code",
   "execution_count": 335,
   "metadata": {},
   "outputs": [
    {
     "data": {
      "text/plain": [
       "[<matplotlib.lines.Line2D at 0x1186cec88>]"
      ]
     },
     "execution_count": 335,
     "metadata": {},
     "output_type": "execute_result"
    },
    {
     "data": {
      "image/png": "[encoded data removed]",
      "text/plain": [
       "<matplotlib.figure.Figure at 0x11e98acf8>"
      ]
     },
     "metadata": {},
     "output_type": "display_data"
    }
   ],
   "source": [
    "omega=np.dot(60/(4*math.pi) ,omega)\n",
    "plt.plot(t, omega)"
   ]
  },
  {
   "cell_type": "code",
   "execution_count": 330,
   "metadata": {},
   "outputs": [
    {
     "data": {
      "text/plain": [
       "[<matplotlib.lines.Line2D at 0x119161cc0>]"
      ]
     },
     "execution_count": 330,
     "metadata": {},
     "output_type": "execute_result"
    },
    {
     "data": {
      "image/png": "[encoded data removed]",
      "text/plain": [
       "<matplotlib.figure.Figure at 0x11e9ce828>"
      ]
     },
     "metadata": {},
     "output_type": "display_data"
    }
   ],
   "source": [
    "plt.plot(t, power)\n"
   ]
  },
  {
   "cell_type": "code",
   "execution_count": 6,
   "metadata": {
    "collapsed": true
   },
   "outputs": [],
   "source": [
    "A = np.asarray([[1, 0, 0], [0, 1, 0], [0, 0.5, 1]])"
   ]
  },
  {
   "cell_type": "code",
   "execution_count": 7,
   "metadata": {},
   "outputs": [
    {
     "data": {
      "text/plain": [
       "array([[ 1. ,  0. ,  0. ],\n",
       "       [ 0. ,  1. ,  0. ],\n",
       "       [ 0. , -0.5,  1. ]])"
      ]
     },
     "execution_count": 7,
     "metadata": {},
     "output_type": "execute_result"
    }
   ],
   "source": [
    "np.linalg.inv(A)"
   ]
  },
  {
   "cell_type": "code",
   "execution_count": 227,
   "metadata": {},
   "outputs": [
    {
     "name": "stdout",
     "output_type": "stream",
     "text": [
      "2.01917789536\n"
     ]
    }
   ],
   "source": [
    "print(i_s)"
   ]
  },
  {
   "cell_type": "code",
   "execution_count": null,
   "metadata": {
    "collapsed": true
   },
   "outputs": [],
   "source": []
  }
 ],
 "metadata": {
  "kernelspec": {
   "display_name": "Python 2",
   "language": "python",
   "name": "python2"
  },
  "language_info": {
   "codemirror_mode": {
    "name": "ipython",
    "version": 3
   },
   "file_extension": ".py",
   "mimetype": "text/x-python",
   "name": "python",
   "nbconvert_exporter": "python",
   "pygments_lexer": "ipython3",
   "version": "3.6.1"
  }
 },
 "nbformat": 4,
 "nbformat_minor": 2
}
