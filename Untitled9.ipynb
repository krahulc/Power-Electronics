{
 "cells": [
  {
   "cell_type": "code",
   "execution_count": 2,
   "metadata": {},
   "outputs": [
    {
     "data": {
      "text/plain": [
       "array([[ 3.90777985,  0.        , -1.90043296,  0.        ],\n",
       "       [ 0.        ,  3.90777985,  0.        , -1.90043296],\n",
       "       [-1.90043296,  0.        ,  3.90777985,  0.        ],\n",
       "       [ 0.        , -1.90043296,  0.        ,  3.90777985]])"
      ]
     },
     "execution_count": 2,
     "metadata": {},
     "output_type": "execute_result"
    }
   ],
   "source": [
    "import numpy as np\n",
    "from scipy import linalg\n",
    "import matplotlib.pyplot as plt\n",
    "import math\n",
    "from scipy import integrate\n",
    "from scipy.integrate import ode\n",
    "from scipy.integrate import quad\n",
    "from scipy.integrate import trapz\n",
    "%matplotlib inline\n",
    "\n",
    "\n",
    "Vm = 230*1.414/1.732    #Phase peak voltage                 \n",
    "freq = 50\n",
    "w=2*np.pi *freq\n",
    "#mult_fac = (1/ (2 * np.pi * freq))\n",
    "J = 0.0168        #moment of inertia\n",
    "T_l = 5           #load torque\n",
    "B= 0.006          #coefficient of friction \n",
    "P=4               #no of poles\n",
    "Rs=2.177 #stator resistance\n",
    "Rr=1.433 #rotor resistance\n",
    "Lm=0.163 #mutual inductance\n",
    "Lls=.17217 #stator leakage inductance\n",
    "Llr=.17217 #rootor leakage inductance\n",
    "Ls=Lm + Lls   #stator inductance\n",
    "Lr=Lm + Llr   # rotor inductance\n",
    "#V_mat =([1],[0],[3],[0])\n",
    "R=([Rs,0,0,0],[0,Rs,0,0],[0,0,Rr,0],[0,0,0,Rr])      \n",
    "#k=np.dot(R,V_mat)\n",
    "#print(k)\n",
    "L=([Ls,0,Lm,0],[0,Ls,0,Lm],[Lm,0,Lr,0],[0,Lm,0,Lr])\n",
    "G=([0,0,0,0],[0,0,0,0],[0,Lm,0,Lr],[-Lm,0,-Lr,0])\n",
    "\n",
    "L_inv = np.linalg.inv(L)\n",
    "L_inv"
   ]
  },
  {
   "cell_type": "code",
   "execution_count": null,
   "metadata": {
    "collapsed": true
   },
   "outputs": [],
   "source": []
  }
 ],
 "metadata": {
  "kernelspec": {
   "display_name": "Python 2",
   "language": "python",
   "name": "python2"
  },
  "language_info": {
   "codemirror_mode": {
    "name": "ipython",
    "version": 3
   },
   "file_extension": ".py",
   "mimetype": "text/x-python",
   "name": "python",
   "nbconvert_exporter": "python",
   "pygments_lexer": "ipython3",
   "version": "3.6.1"
  }
 },
 "nbformat": 4,
 "nbformat_minor": 2
}
