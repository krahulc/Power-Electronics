{
 "cells": [
  {
   "cell_type": "code",
   "execution_count": 152,
   "metadata": {},
   "outputs": [],
   "source": [
    "import math\n",
    "import numpy as np\n",
    "import scipy.integrate as integrate\n",
    "import matplotlib.pyplot as plt\n",
    "%matplotlib inline"
   ]
  },
  {
   "cell_type": "code",
   "execution_count": 153,
   "metadata": {},
   "outputs": [],
   "source": [
    "V1 = 105 # phase voltage (V) \n",
    "R1 = 0.047  # stator winding resistance \n",
    "X1 = 0.433  # stator reactance\n",
    "X2 = 0.623  # rotor reactance\n",
    "R2 = 0.05    # rotor winding resistance \n",
    "f = 400      # frequency, Hz\n",
    "p = 4 # number of poles\n",
    "omega_s = 2 * math.pi * 2*f/p\n",
    "J = 0.000675\n",
    "Xm=8.71\n",
    "Rc=5\n",
    "\n",
    "def dxdt(t, x):\n",
    "    omega_r = x[0]\n",
    "    s = (omega_s - omega_r)/omega_s\n",
    "    k =  (3*R2*V1**2)*((1-s)/s) \n",
    "    #d=((R1+((R2*(Xm**2)/s)/((R2/s)**2 +(Xm+X2)**2)))**2) + ((X1 +((Xm*X2*(Xm+X2)+R2*R2*Xm/s)/((R2/s)**2 +(Xm+X2)**2)))**2)\n",
    "#     d = (R1+R2/s)**2+(X1+X2)**2 \n",
    "    dr=((R2/s)**2 + X2**2)\n",
    "    z1=R1 + X1*1j\n",
    "    z2inv=((1/Rc)+ R2/(s*dr)) -(1/Xm +X2/dr)*1j\n",
    "    z2=1/z2inv\n",
    "    z=z1+z2\n",
    "    Z=(abs(z))**2\n",
    "    \n",
    "#     Dr=((Rc*(R2/s) - X2 *Xm)**2)+((Rc*(Xm+X2)+R2*Xm/s)**2)\n",
    "#     d1=( R1+ (R2*(((Xm) **2)+((X2)**2))+(R2*Rc*Xm*Xm/s)*(Rc + (R2/s)))/Dr )\n",
    "#     d2=( X1+ (Rc*Rc*X2*Xm*(Xm+X2)+R2*Rc*R2*Rc/(s*s))/Dr )\n",
    "#     d=((d1) **2)+((d2) **2)\n",
    "    power = k/Z\n",
    "    \n",
    "#     power = k/d\n",
    "    dwr_dt = power/(J*omega_r)\n",
    "\n",
    "    return [dwr_dt]\n"
   ]
  },
  {
   "cell_type": "code",
   "execution_count": 154,
   "metadata": {},
   "outputs": [
    {
     "name": "stderr",
     "output_type": "stream",
     "text": [
      "/usr/local/lib/python3.6/site-packages/scipy/integrate/_ode.py:1035: UserWarning: dopri5: larger nmax is needed\n",
      "  self.messages.get(idid, 'Unexpected idid=%s' % idid))\n"
     ]
    }
   ],
   "source": [
    "s0 = [0.01]\n",
    "t0 = 0\n",
    "\n",
    "solver = integrate.ode(dxdt)\n",
    "\n",
    "solver.set_integrator('dopri5')\n",
    "solver.set_initial_value(s0, t0)\n",
    "\n",
    "t_end = 1\n",
    "dt = 0.000005\n",
    "\n",
    "omega = []\n",
    "t = []\n",
    "\n",
    "while solver.successful() and solver.t < t_end:\n",
    "    w_r = solver.integrate(solver.t+dt)\n",
    "\n",
    "    t.append(solver.t)\n",
    "    omega.append(w_r*60/(2*math.pi))\n"
   ]
  },
  {
   "cell_type": "code",
   "execution_count": 155,
   "metadata": {},
   "outputs": [
    {
     "data": {
      "text/plain": [
       "[<matplotlib.lines.Line2D at 0x1146a8748>]"
      ]
     },
     "execution_count": 155,
     "metadata": {},
     "output_type": "execute_result"
    },
    {
     "data": {
      "image/png": "[encoded data removed]",
      "text/plain": [
       "<matplotlib.figure.Figure at 0x113d8e9e8>"
      ]
     },
     "metadata": {},
     "output_type": "display_data"
    }
   ],
   "source": [
    "plt.plot(t, omega)"
   ]
  },
  {
   "cell_type": "code",
   "execution_count": 146,
   "metadata": {},
   "outputs": [],
   "source": [
    "s = np.linspace(0.01,1,100) #slip\n",
    "k =  ((3*R2*V1**2)/(omega_s*s)) \n",
    "d = (R1+R2/s)**2+(X1+X2)**2; \n",
    "torque = k/d"
   ]
  },
  {
   "cell_type": "code",
   "execution_count": 70,
   "metadata": {},
   "outputs": [
    {
     "data": {
      "text/plain": [
       "[<matplotlib.lines.Line2D at 0x11244c8d0>]"
      ]
     },
     "execution_count": 70,
     "metadata": {},
     "output_type": "execute_result"
    },
    {
     "data": {
      "image/png": "[encoded data removed]",
      "text/plain": [
       "<matplotlib.figure.Figure at 0x1121a26d8>"
      ]
     },
     "metadata": {},
     "output_type": "display_data"
    }
   ],
   "source": [
    "plt.plot(s,torque)"
   ]
  },
  {
   "cell_type": "code",
   "execution_count": null,
   "metadata": {},
   "outputs": [],
   "source": []
  },
  {
   "cell_type": "code",
   "execution_count": null,
   "metadata": {},
   "outputs": [],
   "source": []
  },
  {
   "cell_type": "code",
   "execution_count": null,
   "metadata": {
    "collapsed": true
   },
   "outputs": [],
   "source": []
  }
 ],
 "metadata": {
  "kernelspec": {
   "display_name": "Python 2",
   "language": "python",
   "name": "python2"
  },
  "language_info": {
   "codemirror_mode": {
    "name": "ipython",
    "version": 3
   },
   "file_extension": ".py",
   "mimetype": "text/x-python",
   "name": "python",
   "nbconvert_exporter": "python",
   "pygments_lexer": "ipython3",
   "version": "3.6.1"
  }
 },
 "nbformat": 4,
 "nbformat_minor": 2
}
