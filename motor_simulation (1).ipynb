{
 "cells": [
  {
   "cell_type": "code",
   "execution_count": 16,
   "metadata": {},
   "outputs": [],
   "source": [
    "import math\n",
    "import numpy as np\n",
    "import scipy.integrate as integrate\n",
    "import matplotlib.pyplot as plt\n",
    "\n",
    "%matplotlib inline"
   ]
  },
  {
   "cell_type": "code",
   "execution_count": 76,
   "metadata": {
    "collapsed": true
   },
   "outputs": [],
   "source": [
    "L_s = 0.433\n",
    "L_r = 0.623\n",
    "L_m = 8.71\n",
    "\n",
    "R_s = 0.05\n",
    "R_r = 0.05\n",
    "R_c = 0.05\n",
    "\n",
    "J = 0.1\n",
    "\n",
    "T_L = 0\n",
    "P = 4\n",
    "\n",
    "def dxdt(t, x, v, omega_s):\n",
    "    i_s = x[0]\n",
    "    i_r = x[1]\n",
    "    i_m = x[2]\n",
    "    omega_r = x[3]\n",
    "    \n",
    "    s = (omega_s - omega_r) / omega_s\n",
    "\n",
    "    E_1 = R_c * (i_s - i_m - i_r)\n",
    "\n",
    "    dis_dt = (1 / (L_s / omega_s)) * (v - R_s * i_s - E_1)\n",
    "    dir_dt = (1 / (L_r / omega_s)) * (E_1 - (R_r / s) * i_r)\n",
    "    dim_dt = (1 / (L_m / omega_s)) * E_1\n",
    "    \n",
    "    dwr_dt = (1 / J) * (3 * ((P / 2) ** 2) * ((i_r * i_r * R_r) / (s * omega_r)) - T_L)\n",
    "    \n",
    "    return [dis_dt, dir_dt, dim_dt, dwr_dt]\n"
   ]
  },
  {
   "cell_type": "code",
   "execution_count": 77,
   "metadata": {},
   "outputs": [],
   "source": [
    "s0 = [0.1, 0.1, 0.1, 0.1]\n",
    "t0 = 0\n",
    "\n",
    "solver = integrate.ode(dxdt)\n",
    "\n",
    "solver.set_integrator('dopri5')\n",
    "solver.set_initial_value(s0, t0)\n",
    "solver.set_f_params(105, 2 * math.pi * 400)\n",
    "\n",
    "t_end = 0.5\n",
    "dt = 0.0005\n",
    "\n",
    "omega = []\n",
    "power = []\n",
    "t = []\n",
    "\n",
    "while solver.successful() and solver.t < t_end:\n",
    "    i_s, i_r, i_m, w_r = solver.integrate(solver.t+dt)\n",
    "    \n",
    "    w_s = 2 * math.pi * 400\n",
    "\n",
    "    s = (w_s - w_r) / w_s\n",
    "\n",
    "    powe = (3 * i_r * i_r * R_r * (1 - s)) / s\n",
    "\n",
    "    t.append(solver.t)\n",
    "    power.append(powe)\n",
    "    omega.append(w_r)\n"
   ]
  },
  {
   "cell_type": "code",
   "execution_count": 78,
   "metadata": {},
   "outputs": [
    {
     "data": {
      "text/plain": [
       "[<matplotlib.lines.Line2D at 0x10a225710>]"
      ]
     },
     "execution_count": 78,
     "metadata": {},
     "output_type": "execute_result"
    },
    {
     "data": {
      "image/png": "[encoded data removed]",
      "text/plain": [
       "<matplotlib.figure.Figure at 0x10a125cd0>"
      ]
     },
     "metadata": {},
     "output_type": "display_data"
    }
   ],
   "source": [
    "plt.plot(t, omega)"
   ]
  },
  {
   "cell_type": "code",
   "execution_count": 72,
   "metadata": {},
   "outputs": [
    {
     "data": {
      "text/plain": [
       "[<matplotlib.lines.Line2D at 0x109fe3f10>]"
      ]
     },
     "execution_count": 72,
     "metadata": {},
     "output_type": "execute_result"
    },
    {
     "data": {
      "image/png": "[encoded data removed]",
      "text/plain": [
       "<matplotlib.figure.Figure at 0x109e88250>"
      ]
     },
     "metadata": {},
     "output_type": "display_data"
    }
   ],
   "source": [
    "plt.plot(t, power)"
   ]
  },
  {
   "cell_type": "code",
   "execution_count": 63,
   "metadata": {},
   "outputs": [],
   "source": [
    "A = np.asarray([[1, 0, 0], [0, 1, 0], [0, 0.5, 1]])"
   ]
  },
  {
   "cell_type": "code",
   "execution_count": 68,
   "metadata": {},
   "outputs": [
    {
     "data": {
      "text/plain": [
       "array([-1.,  4., -1.])"
      ]
     },
     "execution_count": 68,
     "metadata": {},
     "output_type": "execute_result"
    }
   ],
   "source": [
    "np.linalg.inv(A).dot([-1, 4, 1])"
   ]
  },
  {
   "cell_type": "code",
   "execution_count": null,
   "metadata": {
    "collapsed": true
   },
   "outputs": [],
   "source": []
  }
 ],
 "metadata": {
  "kernelspec": {
   "display_name": "Python 2",
   "language": "python",
   "name": "python2"
  },
  "language_info": {
   "codemirror_mode": {
    "name": "ipython",
    "version": 3
   },
   "file_extension": ".py",
   "mimetype": "text/x-python",
   "name": "python",
   "nbconvert_exporter": "python",
   "pygments_lexer": "ipython3",
   "version": "3.6.1"
  }
 },
 "nbformat": 4,
 "nbformat_minor": 2
}
