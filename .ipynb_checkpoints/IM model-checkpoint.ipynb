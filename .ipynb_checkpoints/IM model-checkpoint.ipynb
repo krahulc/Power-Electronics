{
 "cells": [
  {
   "cell_type": "code",
   "execution_count": 57,
   "metadata": {
    "collapsed": true
   },
   "outputs": [],
   "source": [
    "from __future__ import division\n",
    "\n",
    "import numpy as np\n",
    "from scipy.integrate import ode\n",
    "\n",
    "import math\n",
    "import matplotlib.pyplot as plt\n",
    "\n",
    "%matplotlib inline\n",
    "from scipy import linalg"
   ]
  },
  {
   "cell_type": "code",
   "execution_count": 58,
   "metadata": {},
   "outputs": [],
   "source": [
    "Vm=220*1.414/1.732\n",
    "w=2*np.pi*50\n",
    "J=.089\n",
    "p=4\n",
    "Lm=.0832\n",
    "r=np.array([[.435 ,0, 0, 0],[0, .435, 0, 0],[0, 0, .816, 0],[0, 0, 0, .816]])\n",
    "L=(1/(100*np.pi))*np.array([[.754+26.13 ,0, 26.13 ,0],[0 ,.754+26.13 ,0 ,26.13],[26.13 ,0, .754+26.13 ,0],[0 ,26.13, 0 ,.754+26.13]])\n",
    "G=(1/(100*np.pi))*np.array([[0, 0 ,0 ,0],[0 ,0, 0 ,0],[0, 26.13 ,0 ,.754+26.13],[-26.13, 0 ,-.754-26.13 ,0]])\n",
    "invL=linalg.inv(L)\n",
    "w_r=0\n",
    "Te=0\n",
    "v=np.array([[0],[0],[0],[0]])\n",
    "i=np.array([[0],[0],[0],[0]])\n",
    "t=0\n",
    "vd=0\n",
    "vq=0\n"
   ]
  },
  {
   "cell_type": "code",
   "execution_count": 60,
   "metadata": {
    "scrolled": false
   },
   "outputs": [
    {
     "ename": "IndexError",
     "evalue": "index 4 is out of bounds for axis 0 with size 4",
     "output_type": "error",
     "traceback": [
      "\u001b[0;31m---------------------------------------------------------------------------\u001b[0m",
      "\u001b[0;31mIndexError\u001b[0m                                Traceback (most recent call last)",
      "\u001b[0;32m<ipython-input-60-b6fc1163b8ee>\u001b[0m in \u001b[0;36m<module>\u001b[0;34m()\u001b[0m\n\u001b[1;32m     47\u001b[0m \u001b[0;32mwhile\u001b[0m \u001b[0midiq\u001b[0m\u001b[0;34m.\u001b[0m\u001b[0msuccessful\u001b[0m\u001b[0;34m(\u001b[0m\u001b[0;34m)\u001b[0m \u001b[0;32mand\u001b[0m \u001b[0midiq\u001b[0m\u001b[0;34m.\u001b[0m\u001b[0mt\u001b[0m \u001b[0;34m<\u001b[0m \u001b[0mt_end\u001b[0m\u001b[0;34m:\u001b[0m\u001b[0;34m\u001b[0m\u001b[0m\n\u001b[1;32m     48\u001b[0m        \u001b[0;31m# m.append(idiq.t + dt)\u001b[0m\u001b[0;34m\u001b[0m\u001b[0;34m\u001b[0m\u001b[0m\n\u001b[0;32m---> 49\u001b[0;31m         \u001b[0mx\u001b[0m\u001b[0;34m=\u001b[0m\u001b[0midiq\u001b[0m\u001b[0;34m.\u001b[0m\u001b[0mintegrate\u001b[0m\u001b[0;34m(\u001b[0m\u001b[0midiq\u001b[0m\u001b[0;34m.\u001b[0m\u001b[0mt\u001b[0m \u001b[0;34m+\u001b[0m \u001b[0mdt\u001b[0m\u001b[0;34m)\u001b[0m\u001b[0;34m\u001b[0m\u001b[0m\n\u001b[0m\u001b[1;32m     50\u001b[0m \u001b[0;34m\u001b[0m\u001b[0m\n\u001b[1;32m     51\u001b[0m \u001b[0;34m\u001b[0m\u001b[0m\n",
      "\u001b[0;32m/usr/local/lib/python3.6/site-packages/scipy/integrate/_ode.py\u001b[0m in \u001b[0;36mintegrate\u001b[0;34m(self, t, step, relax)\u001b[0m\n\u001b[1;32m    406\u001b[0m             self._y, self.t = mth(self.f, self.jac or (lambda: None),\n\u001b[1;32m    407\u001b[0m                                 \u001b[0mself\u001b[0m\u001b[0;34m.\u001b[0m\u001b[0m_y\u001b[0m\u001b[0;34m,\u001b[0m \u001b[0mself\u001b[0m\u001b[0;34m.\u001b[0m\u001b[0mt\u001b[0m\u001b[0;34m,\u001b[0m \u001b[0mt\u001b[0m\u001b[0;34m,\u001b[0m\u001b[0;34m\u001b[0m\u001b[0m\n\u001b[0;32m--> 408\u001b[0;31m                                 self.f_params, self.jac_params)\n\u001b[0m\u001b[1;32m    409\u001b[0m         \u001b[0;32mexcept\u001b[0m \u001b[0mSystemError\u001b[0m\u001b[0;34m:\u001b[0m\u001b[0;34m\u001b[0m\u001b[0m\n\u001b[1;32m    410\u001b[0m             \u001b[0;31m# f2py issue with tuple returns, see ticket 1187.\u001b[0m\u001b[0;34m\u001b[0m\u001b[0;34m\u001b[0m\u001b[0m\n",
      "\u001b[0;32m/usr/local/lib/python3.6/site-packages/scipy/integrate/_ode.py\u001b[0m in \u001b[0;36mrun\u001b[0;34m(self, f, jac, y0, t0, t1, f_params, jac_params)\u001b[0m\n\u001b[1;32m   1030\u001b[0m     \u001b[0;32mdef\u001b[0m \u001b[0mrun\u001b[0m\u001b[0;34m(\u001b[0m\u001b[0mself\u001b[0m\u001b[0;34m,\u001b[0m \u001b[0mf\u001b[0m\u001b[0;34m,\u001b[0m \u001b[0mjac\u001b[0m\u001b[0;34m,\u001b[0m \u001b[0my0\u001b[0m\u001b[0;34m,\u001b[0m \u001b[0mt0\u001b[0m\u001b[0;34m,\u001b[0m \u001b[0mt1\u001b[0m\u001b[0;34m,\u001b[0m \u001b[0mf_params\u001b[0m\u001b[0;34m,\u001b[0m \u001b[0mjac_params\u001b[0m\u001b[0;34m)\u001b[0m\u001b[0;34m:\u001b[0m\u001b[0;34m\u001b[0m\u001b[0m\n\u001b[1;32m   1031\u001b[0m         x, y, iwork, idid = self.runner(*((f, t0, y0, t1) +\n\u001b[0;32m-> 1032\u001b[0;31m                                           tuple(self.call_args) + (f_params,)))\n\u001b[0m\u001b[1;32m   1033\u001b[0m         \u001b[0;32mif\u001b[0m \u001b[0midid\u001b[0m \u001b[0;34m<\u001b[0m \u001b[0;36m0\u001b[0m\u001b[0;34m:\u001b[0m\u001b[0;34m\u001b[0m\u001b[0m\n\u001b[1;32m   1034\u001b[0m             warnings.warn(self.name + ': ' +\n",
      "\u001b[0;32m<ipython-input-60-b6fc1163b8ee>\u001b[0m in \u001b[0;36mpi\u001b[0;34m(t, x, *arg1)\u001b[0m\n\u001b[1;32m      3\u001b[0m \u001b[0;32mdef\u001b[0m \u001b[0mpi\u001b[0m\u001b[0;34m(\u001b[0m\u001b[0mt\u001b[0m\u001b[0;34m,\u001b[0m \u001b[0mx\u001b[0m\u001b[0;34m,\u001b[0m \u001b[0;34m*\u001b[0m\u001b[0marg1\u001b[0m\u001b[0;34m)\u001b[0m\u001b[0;34m:\u001b[0m\u001b[0;34m\u001b[0m\u001b[0m\n\u001b[1;32m      4\u001b[0m     \u001b[0mi\u001b[0m \u001b[0;34m=\u001b[0m \u001b[0mnp\u001b[0m\u001b[0;34m.\u001b[0m\u001b[0masarray\u001b[0m\u001b[0;34m(\u001b[0m\u001b[0mx\u001b[0m\u001b[0;34m[\u001b[0m\u001b[0;36m0\u001b[0m\u001b[0;34m:\u001b[0m\u001b[0;36m4\u001b[0m\u001b[0;34m]\u001b[0m\u001b[0;34m)\u001b[0m\u001b[0;34m\u001b[0m\u001b[0m\n\u001b[0;32m----> 5\u001b[0;31m     \u001b[0mw_r\u001b[0m \u001b[0;34m=\u001b[0m \u001b[0mx\u001b[0m\u001b[0;34m[\u001b[0m\u001b[0;36m4\u001b[0m\u001b[0;34m]\u001b[0m\u001b[0;34m\u001b[0m\u001b[0m\n\u001b[0m\u001b[1;32m      6\u001b[0m     \u001b[0;31m#for s in range(len(vd)):\u001b[0m\u001b[0;34m\u001b[0m\u001b[0;34m\u001b[0m\u001b[0m\n\u001b[1;32m      7\u001b[0m \u001b[0;34m\u001b[0m\u001b[0m\n",
      "\u001b[0;31mIndexError\u001b[0m: index 4 is out of bounds for axis 0 with size 4"
     ]
    }
   ],
   "source": [
    "\n",
    "def pi(t, x, *arg1):\n",
    "    i = np.asarray(x[0:4])\n",
    "    w_r = x[4]\n",
    "    #for s in range(len(vd)):\n",
    "    \n",
    "    i_dot = np.dot(invL, (v1-(np.dot(r,i)+w_r*np.dot(G, i))))\n",
    "    \n",
    "    Te = 3*Lm*i[2]*i[1] - 3*Lm*i[3]*i[0]\n",
    "\n",
    "    w_r_dot = Te*2/J\n",
    "    \n",
    "    return [i_dot[0], i_dot[1], i_dot[2], i_dot[3], w_r_dot]\n",
    "\n",
    "idiq = ode(pi)\n",
    "idiq.set_initial_value([0, 0, 0, 0, 0], 0)\n",
    "idiq.set_f_params(v1)\n",
    "idiq.set_integrator(\"dopri5\")\n",
    "\n",
    "y=[]\n",
    "y1=[]\n",
    "y2=[]\n",
    "#vd=[]\n",
    "#vq=[]\n",
    "\n",
    "\n",
    "z=math.sin(314*t)\n",
    "y.append(z)\n",
    "z1=math.sin(314*t-2.094)\n",
    "y1.append(z1)\n",
    "z2=math.sin(314*t+2.094)\n",
    "y2.append(z2)\n",
    "#vd.append(2*(z-((z1)/2)-((z2)/2))/3)\n",
    "#vq.append(.866*((z1)-(z2)))\n",
    "vd=(2*(z-((z1)/2)-((z2)/2))/3)\n",
    "vq=(.866*((z1)-(z2)))\n",
    "v1=np.array([[vd],[vq],[0],[0]])\n",
    "    \n",
    "t_end = 1\n",
    "dt = 0.0001\n",
    "t+=dt\n",
    "#vd1=np.array(vd)\n",
    "#vq1=np.array(vq)\n",
    "#m=[]\n",
    "\n",
    "while idiq.successful() and idiq.t < t_end:\n",
    "     \n",
    "        x=idiq.integrate(idiq.t + dt)\n",
    "        \n",
    "\n",
    "#plt.plot(m, x)\n"
   ]
  },
  {
   "cell_type": "code",
   "execution_count": null,
   "metadata": {
    "collapsed": true
   },
   "outputs": [],
   "source": []
  },
  {
   "cell_type": "code",
   "execution_count": null,
   "metadata": {
    "collapsed": true
   },
   "outputs": [],
   "source": []
  }
 ],
 "metadata": {
  "kernelspec": {
   "display_name": "Python 2",
   "language": "python",
   "name": "python2"
  },
  "language_info": {
   "codemirror_mode": {
    "name": "ipython",
    "version": 3
   },
   "file_extension": ".py",
   "mimetype": "text/x-python",
   "name": "python",
   "nbconvert_exporter": "python",
   "pygments_lexer": "ipython3",
   "version": "3.6.1"
  }
 },
 "nbformat": 4,
 "nbformat_minor": 2
}
