{
 "cells": [
  {
   "cell_type": "code",
   "execution_count": 1,
   "metadata": {
    "collapsed": true
   },
   "outputs": [],
   "source": [
    "import numpy"
   ]
  },
  {
   "cell_type": "code",
   "execution_count": 11,
   "metadata": {},
   "outputs": [],
   "source": [
    "import numpy as np\n",
    "from scipy.integrate import odeint\n",
    "from scipy.integrate import ode\n",
    "import matplotlib.pyplot as plt\n",
    "from numpy import linspace"
   ]
  },
  {
   "cell_type": "code",
   "execution_count": null,
   "metadata": {
    "collapsed": true
   },
   "outputs": [],
   "source": []
  },
  {
   "cell_type": "code",
   "execution_count": 14,
   "metadata": {},
   "outputs": [
    {
     "data": {
      "text/plain": [
       "[<matplotlib.lines.Line2D at 0x10e8f0390>]"
      ]
     },
     "execution_count": 14,
     "metadata": {},
     "output_type": "execute_result"
    }
   ],
   "source": [
    "x0, t0 = [1, 0]\n",
    "\n",
    "def dx_dt(t, x, *arg1):\n",
    "    return math.sin(t)\n",
    "\n",
    "integ = ode(dx_dt)\n",
    "integ.set_initial_value(x0, t0)\n",
    "integ.set_integrator(\"dopri5\")\n",
    "\n",
    "x = []\n",
    "y = []\n",
    "\n",
    "t_end = 30\n",
    "dt = 0.1\n",
    "\n",
    "while integ.successful() and integ.t < t_end:\n",
    "        y.append(integ.t + dt)\n",
    "        x.append(integ.integrate(integ.t + dt))\n",
    "        \n",
    "\n",
    "plt.plot(y, x)\n"
   ]
  },
  {
   "cell_type": "code",
   "execution_count": null,
   "metadata": {
    "collapsed": true
   },
   "outputs": [],
   "source": []
  },
  {
   "cell_type": "code",
   "execution_count": null,
   "metadata": {
    "collapsed": true
   },
   "outputs": [],
   "source": []
  },
  {
   "cell_type": "code",
   "execution_count": null,
   "metadata": {
    "collapsed": true
   },
   "outputs": [],
   "source": []
  },
  {
   "cell_type": "code",
   "execution_count": null,
   "metadata": {
    "collapsed": true
   },
   "outputs": [],
   "source": []
  },
  {
   "cell_type": "code",
   "execution_count": 9,
   "metadata": {},
   "outputs": [
    {
     "ename": "NameError",
     "evalue": "name 'tcarr' is not defined",
     "output_type": "error",
     "traceback": [
      "\u001b[0;31m---------------------------------------------------------------------------\u001b[0m",
      "\u001b[0;31mNameError\u001b[0m                                 Traceback (most recent call last)",
      "\u001b[0;32m<ipython-input-9-f0fae96fec5f>\u001b[0m in \u001b[0;36m<module>\u001b[0;34m()\u001b[0m\n\u001b[1;32m      5\u001b[0m \u001b[0;34m\u001b[0m\u001b[0m\n\u001b[1;32m      6\u001b[0m \u001b[0;34m\u001b[0m\u001b[0m\n\u001b[0;32m----> 7\u001b[0;31m \u001b[0;32mif\u001b[0m \u001b[0mt_clock\u001b[0m\u001b[0;34m>=\u001b[0m\u001b[0mtcarr\u001b[0m\u001b[0;34m:\u001b[0m\u001b[0;34m\u001b[0m\u001b[0m\n\u001b[0m\u001b[1;32m      8\u001b[0m     \u001b[0;32mif\u001b[0m \u001b[0;34m(\u001b[0m\u001b[0mx_tri\u001b[0m \u001b[0;34m>=\u001b[0m \u001b[0;36m1.0\u001b[0m\u001b[0;34m)\u001b[0m\u001b[0;34m:\u001b[0m\u001b[0;34m\u001b[0m\u001b[0m\n\u001b[1;32m      9\u001b[0m         \u001b[0mx_tri_sign\u001b[0m \u001b[0;34m=\u001b[0m \u001b[0;34m-\u001b[0m\u001b[0;36m1.0\u001b[0m\u001b[0;34m\u001b[0m\u001b[0m\n",
      "\u001b[0;31mNameError\u001b[0m: name 'tcarr' is not defined"
     ]
    }
   ],
   "source": [
    "import math\n",
    "\n",
    "dt_carr = 5.0e-7\n",
    "carr_freq = 5000.0\n",
    "\n",
    "\n",
    "if t_clock>=tcarr:\n",
    "    if (x_tri >= 1.0):\n",
    "        x_tri_sign = -1.0\n",
    "    \n",
    "    if (x_tri <= -1.0):\n",
    "        x_tri_sign = 1.0\n",
    "    \n",
    "    x_tri += x_tri_sign*(4.0*carr_freq)*dt_carr\n",
    "    \n",
    "    modsignal = 0.97*math.sin(120*math.pi*t_clock)\n",
    "    \n",
    "    if (x_tri > modsignal):\n",
    "        s1logic = 0.0\n",
    "        s2logic = 1.0\n",
    "        s3logic = 1.0\n",
    "        s4logic = 0.0\n",
    "    else:\n",
    "        s1logic = 1.0\n",
    "        s2logic = 0.0\n",
    "        s3logic = 0.0\n",
    "        s4logic = 1.0\n",
    "\n",
    "    tcarr += dt_carr\n",
    "\n",
    "S1inv1gate = s1logic\n",
    "S2inv1gate = s2logic\n",
    "S3inv1gate = s3logic\n",
    "S4inv1gate = s4logic\n",
    "\n",
    "import math\n",
    "t_clock=0\n",
    "t1=0\n",
    "dt = 1.0e-6\n",
    "\n",
    "V1rating = 120.0\n",
    "V2rating = 240.0\n",
    "turns_ratio = V2rating/V1rating\n",
    "Rw1 = 0.1\n",
    "Rw2 = 0.1*turns_ratio*turns_ratio\n",
    "RT1wdg1 = 10000.0\n",
    "RT1wdg2 = 10000.0\n",
    "M = 0.5\n",
    "Ls = 0.0001\n",
    "\n",
    "if (t_clock <= dt):\n",
    "    curr_vector = [0.0, 0.0]\n",
    "\n",
    "if t_clock>=t1:\n",
    "    \n",
    "    L_matrix = [[Ls + M, M], [M, (Ls + M)]]\n",
    "    R_matrix = [Rw1, Rw2/(turns_ratio*turns_ratio)]\n",
    "    V_matrix = [v1meas, v2meas/turns_ratio]\n",
    "\n",
    "    for count1 in range(len(L_matrix)):\n",
    "        if not L_matrix[count1][count1]:\n",
    "            for count2 in range(count1 + 1, len(L_matrix)):\n",
    "                if L_matrix[count2][count1]:\n",
    "                    L_matrix[count1], L_matrix[count2] = L_matrix[count2], L_matrix[count1]\n",
    "                    R_matrix[count1], R_matrix[count2] = R_matrix[count2], R_matrix[count1]\n",
    "                    V_matrix[count1], V_matrix[count2] = V_matrix[count2], V_matrix[count1]\n",
    "                    break\n",
    "\n",
    "        if L_matrix[count1][count1]:\n",
    "            for count2 in range(count1 + 1, len(L_matrix)):\n",
    "                if L_matrix[count2][count1]:\n",
    "                    comm_factor = L_matrix[count2][count1]/L_matrix[count1][count1]\n",
    "                    for count3 in range(len(L_matrix)):\n",
    "                        L_matrix[count2][count3] -= L_matrix[count1][count3]*comm_factor\n",
    "                    R_matrix[count2] -= R_matrix[count1]*comm_factor\n",
    "                    V_matrix[count2] -= V_matrix[count1]*comm_factor\n",
    "\n",
    "\n",
    "    dibydt_matrix = [0.0, 0.0]\n",
    "    \n",
    "    for count1 in range(len(L_matrix)-1, -1, -1):\n",
    "        k_matrix = [0.0, 0.0, 0.0, 0.0]\n",
    "        for count2 in range(len(k_matrix)):\n",
    "            k_matrix[count2] = V_matrix[count1]\n",
    "            for count3 in range(count1 + 1, len(L_matrix)):\n",
    "                k_matrix[count2] -= L_matrix[count1][count3]*dibydt_matrix[count3]\n",
    "                wdg_current = curr_vector[count1]\n",
    "                if count2 == 0:\n",
    "                    k_matrix[count2] -= R_matrix[count1]*wdg_current\n",
    "                if count2 == 1:\n",
    "                    k_matrix[count2] -= R_matrix[count1]*(wdg_current + k_matrix[count2 - 1]*dt/2.0)\n",
    "                if count2 == 2:\n",
    "                    k_matrix[count2] -= R_matrix[count1]*(wdg_current + k_matrix[count2 - 1]*dt/2.0)\n",
    "                if count2 == 3:\n",
    "                    k_matrix[count2] -= R_matrix[count1]*(wdg_current + k_matrix[count2 - 1]*dt)\n",
    "\n",
    "            k_matrix[count2] = k_matrix[count2]/L_matrix[count1][count1]\n",
    "        dibydt_matrix[count1] = (k_matrix[0] + k_matrix[1]*2 + k_matrix[2]*2 + k_matrix[3])/6.0\n",
    "        curr_vector[count1] += dibydt_matrix[count1]*dt\n",
    "\n",
    "    VT1wdg1 = v1meas - curr_vector[0]*RT1wdg1\n",
    "    VT1wdg2 = v2meas - curr_vector[1]*RT1wdg2/turns_ratio\n",
    "    \n",
    "    flux = (Ls + M)*curr_vector[0] + M*curr_vector[1]/turns_ratio\n",
    "    \n",
    "    t1 += dt\n",
    "    \n",
    "T1_flux = curr_vector[0]\n",
    "\n"
   ]
  },
  {
   "cell_type": "code",
   "execution_count": null,
   "metadata": {
    "collapsed": true
   },
   "outputs": [],
   "source": []
  },
  {
   "cell_type": "code",
   "execution_count": null,
   "metadata": {
    "collapsed": true
   },
   "outputs": [],
   "source": []
  },
  {
   "cell_type": "code",
   "execution_count": null,
   "metadata": {
    "collapsed": true
   },
   "outputs": [],
   "source": []
  },
  {
   "cell_type": "code",
   "execution_count": null,
   "metadata": {
    "collapsed": true
   },
   "outputs": [],
   "source": []
  },
  {
   "cell_type": "code",
   "execution_count": null,
   "metadata": {
    "collapsed": true
   },
   "outputs": [],
   "source": []
  }
 ],
 "metadata": {
  "kernelspec": {
   "display_name": "Python 2",
   "language": "python",
   "name": "python2"
  },
  "language_info": {
   "codemirror_mode": {
    "name": "ipython",
    "version": 3
   },
   "file_extension": ".py",
   "mimetype": "text/x-python",
   "name": "python",
   "nbconvert_exporter": "python",
   "pygments_lexer": "ipython3",
   "version": "3.6.1"
  }
 },
 "nbformat": 4,
 "nbformat_minor": 2
}
