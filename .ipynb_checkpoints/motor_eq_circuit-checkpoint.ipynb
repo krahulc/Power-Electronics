{
 "cells": [
  {
   "cell_type": "code",
   "execution_count": 1,
   "metadata": {},
   "outputs": [],
   "source": [
    "import math\n",
    "import numpy as np\n",
    "import scipy.integrate as integrate\n",
    "import matplotlib.pyplot as plt\n",
    "\n",
    "%matplotlib inline"
   ]
  },
  {
   "cell_type": "code",
   "execution_count": 2,
   "metadata": {},
   "outputs": [],
   "source": [
    "V1 = 105 # phase voltage (V) \n",
    "R1 = 0.047  # stator winding resistance \n",
    "X1 = 0.433  # stator reactance\n",
    "X2 = 0.623  # rotor reactance\n",
    "R2 = 0.05    # rotor winding resistance \n",
    "f = 400      # frequency, Hz\n",
    "p = 4 # number of poles\n",
    "omega_s = 2 * math.pi * 2*f/p\n",
    "J = 0.05\n",
    "\n",
    "def dxdt(t, x):\n",
    "    omega_r = x[0]\n",
    "    s = (omega_s - omega_r)/omega_s\n",
    "    k =  (3*R2*V1**2)*((1-s)/s) \n",
    "    d = (R1+R2/s)**2+(X1+X2)**2 \n",
    "    power = k/d\n",
    "    dwr_dt = power/(J*omega_r)\n",
    "\n",
    "    return [dwr_dt]\n"
   ]
  },
  {
   "cell_type": "code",
   "execution_count": 3,
   "metadata": {},
   "outputs": [],
   "source": [
    "s0 = [0.01]\n",
    "t0 = 0\n",
    "\n",
    "solver = integrate.ode(dxdt)\n",
    "\n",
    "solver.set_integrator('dopri5')\n",
    "solver.set_initial_value(s0, t0)\n",
    "\n",
    "t_end = 35\n",
    "dt = 0.05\n",
    "\n",
    "omega = []\n",
    "t = []\n",
    "\n",
    "while solver.successful() and solver.t < t_end:\n",
    "    w_r = solver.integrate(solver.t+dt)\n",
    "\n",
    "    t.append(solver.t)\n",
    "    omega.append(w_r*60/(2*math.pi))\n"
   ]
  },
  {
   "cell_type": "code",
   "execution_count": 4,
   "metadata": {},
   "outputs": [
    {
     "data": {
      "text/plain": [
       "[<matplotlib.lines.Line2D at 0x110e404a8>]"
      ]
     },
     "execution_count": 4,
     "metadata": {},
     "output_type": "execute_result"
    },
    {
     "data": {
      "image/png": "[encoded data removed]",
      "text/plain": [
       "<matplotlib.figure.Figure at 0x110daf160>"
      ]
     },
     "metadata": {},
     "output_type": "display_data"
    }
   ],
   "source": [
    "plt.plot(t, omega)"
   ]
  },
  {
   "cell_type": "code",
   "execution_count": 5,
   "metadata": {},
   "outputs": [],
   "source": [
    "s = np.linspace(0.01,1,100) #slip\n",
    "k =  ((3*R2*V1**2)/(omega_s*s)) \n",
    "d = (R1+R2/s)**2+(X1+X2)**2; \n",
    "torque = k/d"
   ]
  },
  {
   "cell_type": "code",
   "execution_count": 6,
   "metadata": {},
   "outputs": [
    {
     "data": {
      "text/plain": [
       "[<matplotlib.lines.Line2D at 0x110f2e7f0>]"
      ]
     },
     "execution_count": 6,
     "metadata": {},
     "output_type": "execute_result"
    },
    {
     "data": {
      "image/png": "[encoded data removed]",
      "text/plain": [
       "<matplotlib.figure.Figure at 0x110e73240>"
      ]
     },
     "metadata": {},
     "output_type": "display_data"
    }
   ],
   "source": [
    "plt.plot(s,torque)"
   ]
  },
  {
   "cell_type": "code",
   "execution_count": null,
   "metadata": {},
   "outputs": [],
   "source": []
  },
  {
   "cell_type": "code",
   "execution_count": null,
   "metadata": {},
   "outputs": [],
   "source": []
  },
  {
   "cell_type": "code",
   "execution_count": null,
   "metadata": {
    "collapsed": true
   },
   "outputs": [],
   "source": []
  }
 ],
 "metadata": {
  "kernelspec": {
   "display_name": "Python 2",
   "language": "python",
   "name": "python2"
  },
  "language_info": {
   "codemirror_mode": {
    "name": "ipython",
    "version": 3
   },
   "file_extension": ".py",
   "mimetype": "text/x-python",
   "name": "python",
   "nbconvert_exporter": "python",
   "pygments_lexer": "ipython3",
   "version": "3.6.1"
  }
 },
 "nbformat": 4,
 "nbformat_minor": 2
}
