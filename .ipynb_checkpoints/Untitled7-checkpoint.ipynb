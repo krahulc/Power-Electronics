{
 "cells": [
  {
   "cell_type": "code",
   "execution_count": 14,
   "metadata": {},
   "outputs": [
    {
     "name": "stdout",
     "output_type": "stream",
     "text": [
      "flux= 0.00481995850605\n"
     ]
    },
    {
     "data": {
      "text/plain": [
       "0.20075259578964008"
      ]
     },
     "execution_count": 14,
     "metadata": {},
     "output_type": "execute_result"
    }
   ],
   "source": [
    "import numpy as np\n",
    "pout=3000\n",
    "vdc=96\n",
    "vacll=round((.8165/np.sqrt(2))*vdc*.9)\n",
    "vacph=round(vacll/np.sqrt(3))\n",
    "vacph\n",
    "\n",
    "irms=1/(vacph*.75*.8*10**(-3))\n",
    "poles=4\n",
    "freq=50\n",
    "def mag_flux(poles, pout,freq):\n",
    "    phim=(.00145+.003/poles)*np.sqrt(.08*pout/freq)\n",
    "    return (phim)\n",
    "b=mag_flux(poles, pout,freq)\n",
    "print(\"flux=\",b)\n",
    "\n",
    "d=(3/(.3435*1500*1.1788))**(1./3)\n",
    "l=1.1788*d\n",
    "l\n",
    "\n"
   ]
  },
  {
   "cell_type": "code",
   "execution_count": null,
   "metadata": {
    "collapsed": true
   },
   "outputs": [],
   "source": []
  }
 ],
 "metadata": {
  "kernelspec": {
   "display_name": "Python 2",
   "language": "python",
   "name": "python2"
  },
  "language_info": {
   "codemirror_mode": {
    "name": "ipython",
    "version": 3
   },
   "file_extension": ".py",
   "mimetype": "text/x-python",
   "name": "python",
   "nbconvert_exporter": "python",
   "pygments_lexer": "ipython3",
   "version": "3.6.1"
  }
 },
 "nbformat": 4,
 "nbformat_minor": 2
}
