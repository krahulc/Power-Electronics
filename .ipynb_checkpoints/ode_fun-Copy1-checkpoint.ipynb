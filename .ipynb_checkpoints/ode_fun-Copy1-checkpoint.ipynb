{
 "cells": [
  {
   "cell_type": "code",
   "execution_count": 44,
   "metadata": {
    "collapsed": true
   },
   "outputs": [],
   "source": [
    "from __future__ import division\n",
    "\n",
    "import numpy as np"
   ]
  },
  {
   "cell_type": "code",
   "execution_count": 45,
   "metadata": {
    "collapsed": true
   },
   "outputs": [],
   "source": [
    "from scipy.integrate import ode"
   ]
  },
  {
   "cell_type": "code",
   "execution_count": null,
   "metadata": {
    "collapsed": true
   },
   "outputs": [],
   "source": []
  },
  {
   "cell_type": "code",
   "execution_count": 46,
   "metadata": {
    "collapsed": true
   },
   "outputs": [],
   "source": [
    "v1 = np.asarray([1., 2., 3.])"
   ]
  },
  {
   "cell_type": "code",
   "execution_count": null,
   "metadata": {
    "collapsed": true
   },
   "outputs": [],
   "source": []
  },
  {
   "cell_type": "code",
   "execution_count": 47,
   "metadata": {},
   "outputs": [
    {
     "data": {
      "text/plain": [
       "array([ 1.,  2.,  3.])"
      ]
     },
     "execution_count": 47,
     "metadata": {},
     "output_type": "execute_result"
    }
   ],
   "source": [
    "v1"
   ]
  },
  {
   "cell_type": "code",
   "execution_count": 48,
   "metadata": {
    "collapsed": true
   },
   "outputs": [],
   "source": [
    "v2 = np.asarray([3., 4., 5.])"
   ]
  },
  {
   "cell_type": "code",
   "execution_count": 49,
   "metadata": {},
   "outputs": [
    {
     "data": {
      "text/plain": [
       "array([ 3.,  4.,  5.])"
      ]
     },
     "execution_count": 49,
     "metadata": {},
     "output_type": "execute_result"
    }
   ],
   "source": [
    "v2"
   ]
  },
  {
   "cell_type": "code",
   "execution_count": 50,
   "metadata": {},
   "outputs": [
    {
     "data": {
      "text/plain": [
       "26.0"
      ]
     },
     "execution_count": 50,
     "metadata": {},
     "output_type": "execute_result"
    }
   ],
   "source": [
    "v1.dot(v2)"
   ]
  },
  {
   "cell_type": "code",
   "execution_count": 51,
   "metadata": {
    "collapsed": true
   },
   "outputs": [],
   "source": [
    "m1 = np.asarray([[1, 0, 0], [0, 1, 0], [0, 0, 1]])\n",
    "\n",
    "v1 = np.asarray([2, 3, 4])"
   ]
  },
  {
   "cell_type": "code",
   "execution_count": 52,
   "metadata": {},
   "outputs": [
    {
     "data": {
      "text/plain": [
       "array([2, 3, 4])"
      ]
     },
     "execution_count": 52,
     "metadata": {},
     "output_type": "execute_result"
    }
   ],
   "source": [
    "np.dot(m1, v1)"
   ]
  },
  {
   "cell_type": "code",
   "execution_count": 53,
   "metadata": {},
   "outputs": [
    {
     "data": {
      "text/plain": [
       "array([[ 1.,  0.,  0.,  0.,  0.],\n",
       "       [ 0.,  1.,  0.,  0.,  0.],\n",
       "       [ 0.,  0.,  1.,  0.,  0.],\n",
       "       [ 0.,  0.,  0.,  1.,  0.],\n",
       "       [ 0.,  0.,  0.,  0.,  1.]])"
      ]
     },
     "execution_count": 53,
     "metadata": {},
     "output_type": "execute_result"
    }
   ],
   "source": [
    "np.identity(5)"
   ]
  },
  {
   "cell_type": "code",
   "execution_count": 54,
   "metadata": {
    "collapsed": true
   },
   "outputs": [],
   "source": [
    "v3 = np.asarray([1, 2, 3])"
   ]
  },
  {
   "cell_type": "code",
   "execution_count": 55,
   "metadata": {},
   "outputs": [
    {
     "data": {
      "text/plain": [
       "array([[1, 2, 3]])"
      ]
     },
     "execution_count": 55,
     "metadata": {},
     "output_type": "execute_result"
    }
   ],
   "source": [
    "v3.reshape((1, 3))"
   ]
  },
  {
   "cell_type": "code",
   "execution_count": 56,
   "metadata": {
    "collapsed": true
   },
   "outputs": [],
   "source": [
    "from scipy.integrate import ode\n",
    "\n",
    "import math"
   ]
  },
  {
   "cell_type": "code",
   "execution_count": 57,
   "metadata": {
    "collapsed": true
   },
   "outputs": [],
   "source": [
    "import matplotlib.pyplot as plt\n",
    "\n",
    "%matplotlib inline"
   ]
  },
  {
   "cell_type": "code",
   "execution_count": 58,
   "metadata": {
    "scrolled": true
   },
   "outputs": [
    {
     "data": {
      "text/plain": [
       "[<matplotlib.lines.Line2D at 0x10b4b7390>]"
      ]
     },
     "execution_count": 58,
     "metadata": {},
     "output_type": "execute_result"
    },
    {
     "data": {
      "image/png": "[encoded data removed]",
      "text/plain": [
       "<matplotlib.figure.Figure at 0x10ae53550>"
      ]
     },
     "metadata": {},
     "output_type": "display_data"
    }
   ],
   "source": [
    "x0, t0 = [1, 0]\n",
    "\n",
    "def dx_dt(t, x, *arg1):\n",
    "    return math.sin(t)\n",
    "\n",
    "integ = ode(dx_dt)\n",
    "integ.set_initial_value(x0, t0)\n",
    "integ.set_integrator(\"dopri5\")\n",
    "\n",
    "x = []\n",
    "y = []\n",
    "\n",
    "t_end = 30\n",
    "dt = 0.1\n",
    "\n",
    "while integ.successful() and integ.t < t_end:\n",
    "        y.append(integ.t + dt)\n",
    "        x.append(integ.integrate(integ.t + dt))\n",
    "        \n",
    "\n",
    "plt.plot(y, x)\n"
   ]
  },
  {
   "cell_type": "code",
   "execution_count": 59,
   "metadata": {},
   "outputs": [
    {
     "data": {
      "text/plain": [
       "[<matplotlib.lines.Line2D at 0x10b5b0b70>]"
      ]
     },
     "execution_count": 59,
     "metadata": {},
     "output_type": "execute_result"
    },
    {
     "data": {
      "image/png": "[encoded data removed]",
      "text/plain": [
       "<matplotlib.figure.Figure at 0x10b4d5a58>"
      ]
     },
     "metadata": {},
     "output_type": "display_data"
    }
   ],
   "source": [
    "x0, t0 = [1, 0]\n",
    "\n",
    "def dx_dt(t, x, *arg1):\n",
    "    return math.sin(t)\n",
    "\n",
    "integ = ode(dx_dt)\n",
    "integ.set_initial_value(x0, t0)\n",
    "integ.set_integrator(\"dopri5\")\n",
    "\n",
    "x = []\n",
    "y = []\n",
    "\n",
    "t_end = 30\n",
    "dt = 0.1\n",
    "\n",
    "while integ.successful() and integ.t < t_end:\n",
    "        y.append(integ.t + dt)\n",
    "        x.append(integ.integrate(integ.t + dt))\n",
    "        \n",
    "\n",
    "plt.plot(y, x)\n"
   ]
  },
  {
   "cell_type": "code",
   "execution_count": 60,
   "metadata": {},
   "outputs": [
    {
     "name": "stdout",
     "output_type": "stream",
     "text": [
      "1 [-0.71038232+0.23749653j  0.40000271+0.j        ]\n",
      "2.0 [ 0.19098503-0.52359246j  0.22222356+0.j        ]\n",
      "3.0 [ 0.47153208+0.52701229j  0.15384681+0.j        ]\n",
      "4.0 [-0.61905937+0.30726255j  0.11764744+0.j        ]\n",
      "5.0 [ 0.02340997-0.61418799j  0.09523835+0.j        ]\n",
      "6.0 [ 0.58643071+0.339819j  0.08000018+0.j      ]\n",
      "7.0 [-0.52070105+0.44525141j  0.06896565+0.j        ]\n",
      "8.0 [-0.15986733-0.61234476j  0.06060616+0.j        ]\n",
      "9.0 [ 0.64850462+0.15048982j  0.05405414+0.j        ]\n",
      "10.0 [-0.38404699+0.56382299j  0.04878055+0.j        ]\n"
     ]
    }
   ],
   "source": [
    ">>> from scipy.integrate import ode\n",
    ">>>\n",
    ">>> y0, t0 = [1.0j, 2.0], 0\n",
    ">>>\n",
    ">>> def f(t, y, arg1):\n",
    "...     return [1j*arg1*y[0] + y[1], -arg1*y[1]**2]\n",
    ">>> def jac(t, y, arg1):\n",
    "...     return [[1j*arg1, 1], [0, -arg1*2*y[1]]]\n",
    "r = ode(f, jac).set_integrator('zvode', method='bdf')\n",
    ">>> r.set_initial_value(y0, t0).set_f_params(2.0).set_jac_params(2.0)\n",
    ">>> t1 = 10\n",
    ">>> dt = 1\n",
    ">>> while r.successful() and r.t < t1:\n",
    "...     print(r.t+dt, r.integrate(r.t+dt))"
   ]
  },
  {
   "cell_type": "code",
   "execution_count": 61,
   "metadata": {},
   "outputs": [
    {
     "data": {
      "text/plain": [
       "[<matplotlib.lines.Line2D at 0x10b5dfdd8>]"
      ]
     },
     "execution_count": 61,
     "metadata": {},
     "output_type": "execute_result"
    },
    {
     "data": {
      "image/png": "[encoded data removed]",
      "text/plain": [
       "<matplotlib.figure.Figure at 0x10b5dfd68>"
      ]
     },
     "metadata": {},
     "output_type": "display_data"
    }
   ],
   "source": [
    "x0, t0 = [1, 0]\n",
    "\n",
    "def dx_dt(t, x, *arg1):\n",
    "    return math.sin(t)\n",
    "\n",
    "integ = ode(dx_dt)\n",
    "integ.set_initial_value(x0, t0)\n",
    "integ.set_integrator(\"dopri5\")\n",
    "\n",
    "x = []\n",
    "y = []\n",
    "\n",
    "t_end = 30\n",
    "dt = 0.1\n",
    "\n",
    "while integ.successful() and integ.t < t_end:\n",
    "        y.append(integ.t + dt)\n",
    "        x.append(integ.integrate(integ.t + dt))\n",
    "        \n",
    "\n",
    "plt.plot(y, x)"
   ]
  },
  {
   "cell_type": "code",
   "execution_count": null,
   "metadata": {
    "collapsed": true
   },
   "outputs": [],
   "source": []
  },
  {
   "cell_type": "code",
   "execution_count": null,
   "metadata": {
    "collapsed": true
   },
   "outputs": [],
   "source": []
  },
  {
   "cell_type": "code",
   "execution_count": 62,
   "metadata": {},
   "outputs": [
    {
     "data": {
      "text/plain": [
       "<matplotlib.collections.PathCollection at 0x10b7ae908>"
      ]
     },
     "execution_count": 62,
     "metadata": {},
     "output_type": "execute_result"
    },
    {
     "data": {
      "image/png": "[encoded data removed]",
      "text/plain": [
       "<matplotlib.figure.Figure at 0x10b5fed30>"
      ]
     },
     "metadata": {},
     "output_type": "display_data"
    }
   ],
   "source": [
    "x0, t0 = [[0, 0, 0, 0], 0]\n",
    "\n",
    "import random\n",
    "\n",
    "def dx_dt(t, s, *arg1):\n",
    "    x = s[0]\n",
    "    y = s[1]\n",
    "    phi = s[2]\n",
    "    v = s[3]\n",
    "    \n",
    "    a = (1 - v) * 0.1\n",
    "    w = (1 - phi) * 0.1\n",
    "    \n",
    "    xdot = v * math.cos(phi)\n",
    "    ydot = v * math.sin(phi)\n",
    "    phidot = w\n",
    "    vdot = a\n",
    "\n",
    "    return [xdot, ydot, phidot, vdot]\n",
    "\n",
    "integ = ode(dx_dt)\n",
    "integ.set_initial_value(x0, t0)\n",
    "integ.set_integrator(\"dopri5\")\n",
    "\n",
    "x = []\n",
    "y = []\n",
    "phi = []\n",
    "v = []\n",
    "\n",
    "t = []\n",
    "\n",
    "t_end = 60\n",
    "dt = 0.01\n",
    "\n",
    "while integ.successful() and integ.t < t_end:\n",
    "        t.append(integ.t + dt)\n",
    "        s = integ.integrate(integ.t + dt)\n",
    "\n",
    "        x.append(s[0])\n",
    "        y.append(s[1])\n",
    "        phi.append(s[2])\n",
    "        v.append(s[3])\n",
    "\n",
    "plt.scatter(x, y)"
   ]
  },
  {
   "cell_type": "code",
   "execution_count": 63,
   "metadata": {},
   "outputs": [
    {
     "data": {
      "image/png": "[encoded data removed]",
      "text/plain": [
       "<matplotlib.figure.Figure at 0x10b3bf748>"
      ]
     },
     "metadata": {},
     "output_type": "display_data"
    }
   ],
   "source": [
    "x = np.asarray(x)\n",
    "y = np.asarray(y)\n",
    "v = np.asarray(v)\n",
    "phi = np.asarray(phi)\n",
    "\n",
    "Q = plt.quiver(x, y, v*np.cos(phi), v*np.sin(phi))\n"
   ]
  },
  {
   "cell_type": "code",
   "execution_count": 64,
   "metadata": {},
   "outputs": [
    {
     "data": {
      "text/plain": [
       "[<matplotlib.lines.Line2D at 0x10b6eec18>]"
      ]
     },
     "execution_count": 64,
     "metadata": {},
     "output_type": "execute_result"
    },
    {
     "data": {
      "image/png": "[encoded data removed]",
      "text/plain": [
       "<matplotlib.figure.Figure at 0x10b6ee978>"
      ]
     },
     "metadata": {},
     "output_type": "display_data"
    }
   ],
   "source": [
    "plt.plot(t, v)\n",
    "plt.plot(t, x)"
   ]
  },
  {
   "cell_type": "code",
   "execution_count": 65,
   "metadata": {
    "collapsed": true
   },
   "outputs": [],
   "source": [
    "x = np.asarray([2, 3, 4])"
   ]
  },
  {
   "cell_type": "code",
   "execution_count": null,
   "metadata": {
    "collapsed": true
   },
   "outputs": [],
   "source": []
  },
  {
   "cell_type": "code",
   "execution_count": null,
   "metadata": {
    "collapsed": true
   },
   "outputs": [],
   "source": []
  }
 ],
 "metadata": {
  "kernelspec": {
   "display_name": "Python 2",
   "language": "python",
   "name": "python2"
  },
  "language_info": {
   "codemirror_mode": {
    "name": "ipython",
    "version": 3
   },
   "file_extension": ".py",
   "mimetype": "text/x-python",
   "name": "python",
   "nbconvert_exporter": "python",
   "pygments_lexer": "ipython3",
   "version": "3.6.1"
  }
 },
 "nbformat": 4,
 "nbformat_minor": 2
}
