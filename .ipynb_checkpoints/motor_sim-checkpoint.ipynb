{
 "cells": [
  {
   "cell_type": "code",
   "execution_count": 62,
   "metadata": {},
   "outputs": [],
   "source": [
    "import math\n",
    "import numpy as np\n",
    "import scipy.integrate as integrate\n",
    "import matplotlib.pyplot as plt\n",
    "\n",
    "%matplotlib inline"
   ]
  },
  {
   "cell_type": "code",
   "execution_count": 69,
   "metadata": {
    "collapsed": true
   },
   "outputs": [],
   "source": [
    "L_ls = 0.0008488\n",
    "L_lr = 0.0008488\n",
    "L_m = .1335\n",
    "\n",
    "R_s = 0.02\n",
    "R_r = 0.12\n",
    "R_c = 455\n",
    "\n",
    "J = 0.016\n",
    "\n",
    "T_L = 0\n",
    "P = 4\n",
    "\n",
    "def dxdt(t, x, v, omega_s):\n",
    "    i_s = x[0]\n",
    "    i_r = x[1]\n",
    "    i_m = x[2]\n",
    "    omega_r = x[3]\n",
    "    \n",
    "    V=v* math.sin (omega_s * t)\n",
    "    s = (omega_s - omega_r) / omega_s\n",
    "\n",
    "    E_1 = R_c * (i_s - i_m - i_r)\n",
    "\n",
    "    dis_dt = (1 / (L_ls / omega_s)) * (V - R_s * i_s - E_1)\n",
    "    dir_dt = (1 / (L_lr / omega_s)) * (E_1 - (R_r / s) * i_r)\n",
    "    dim_dt = (1 / (L_m / omega_s)) * E_1\n",
    "    \n",
    "    dwr_dt = ((P / 2) / J) * (3 * (P / 2)  * ((i_r * i_r * R_r) / (s * omega_s)) - T_L)\n",
    "    \n",
    "    return [dis_dt, dir_dt, dim_dt, dwr_dt]\n"
   ]
  },
  {
   "cell_type": "code",
   "execution_count": 70,
   "metadata": {},
   "outputs": [
    {
     "name": "stderr",
     "output_type": "stream",
     "text": [
      "/usr/local/lib/python3.6/site-packages/scipy/integrate/_ode.py:1035: UserWarning: dopri5: larger nmax is needed\n",
      "  self.messages.get(idid, 'Unexpected idid=%s' % idid))\n"
     ]
    }
   ],
   "source": [
    "s0 = [0.1, 0.1, 0.1, 0.1]\n",
    "t0 = 0\n",
    "\n",
    "solver = integrate.ode(dxdt)\n",
    "\n",
    "solver.set_integrator('dopri5')\n",
    "solver.set_initial_value(s0, t0)\n",
    "solver.set_f_params(105 , 2 * math.pi * 50)\n",
    "\n",
    "t_end = .5\n",
    "dt = 0.0001\n",
    "\n",
    "omega = []\n",
    "power = []\n",
    "t = []\n",
    "\n",
    "while solver.successful() and solver.t < t_end:\n",
    "    i_s, i_r, i_m, w_r = solver.integrate(solver.t+dt)\n",
    "    \n",
    "    w_s = 2 * math.pi * 50 \n",
    "\n",
    "    s = (w_s - w_r) / w_s\n",
    "\n",
    "    powe = (3 * i_r * i_r * R_r * (1 - s)) / s\n",
    "\n",
    "    t.append(solver.t)\n",
    "    power.append(powe)\n",
    "    omega.append(w_r)\n"
   ]
  },
  {
   "cell_type": "code",
   "execution_count": 71,
   "metadata": {},
   "outputs": [
    {
     "data": {
      "text/plain": [
       "[<matplotlib.lines.Line2D at 0x10bded9b0>]"
      ]
     },
     "execution_count": 71,
     "metadata": {},
     "output_type": "execute_result"
    },
    {
     "data": {
      "image/png": "[encoded data removed]",
      "text/plain": [
       "<matplotlib.figure.Figure at 0x106d6b8d0>"
      ]
     },
     "metadata": {},
     "output_type": "display_data"
    }
   ],
   "source": [
    "plt.plot(t, omega)"
   ]
  },
  {
   "cell_type": "code",
   "execution_count": 68,
   "metadata": {},
   "outputs": [
    {
     "data": {
      "text/plain": [
       "[<matplotlib.lines.Line2D at 0x10bcf4ef0>]"
      ]
     },
     "execution_count": 68,
     "metadata": {},
     "output_type": "execute_result"
    },
    {
     "data": {
      "image/png": "[encoded data removed]",
      "text/plain": [
       "<matplotlib.figure.Figure at 0x105962a20>"
      ]
     },
     "metadata": {},
     "output_type": "display_data"
    }
   ],
   "source": [
    "plt.plot(t, power)"
   ]
  },
  {
   "cell_type": "code",
   "execution_count": 6,
   "metadata": {},
   "outputs": [],
   "source": [
    "A = np.asarray([[1, 0, 0], [0, 1, 0], [0, 0.5, 1]])"
   ]
  },
  {
   "cell_type": "code",
   "execution_count": 7,
   "metadata": {},
   "outputs": [
    {
     "data": {
      "text/plain": [
       "array([[ 1. ,  0. ,  0. ],\n",
       "       [ 0. ,  1. ,  0. ],\n",
       "       [ 0. , -0.5,  1. ]])"
      ]
     },
     "execution_count": 7,
     "metadata": {},
     "output_type": "execute_result"
    }
   ],
   "source": [
    "np.linalg.inv(A)"
   ]
  },
  {
   "cell_type": "code",
   "execution_count": null,
   "metadata": {
    "collapsed": true
   },
   "outputs": [],
   "source": []
  }
 ],
 "metadata": {
  "kernelspec": {
   "display_name": "Python 2",
   "language": "python",
   "name": "python2"
  },
  "language_info": {
   "codemirror_mode": {
    "name": "ipython",
    "version": 3
   },
   "file_extension": ".py",
   "mimetype": "text/x-python",
   "name": "python",
   "nbconvert_exporter": "python",
   "pygments_lexer": "ipython3",
   "version": "3.6.1"
  }
 },
 "nbformat": 4,
 "nbformat_minor": 2
}
